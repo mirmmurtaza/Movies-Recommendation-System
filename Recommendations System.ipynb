{
 "cells": [
  {
   "cell_type": "markdown",
   "id": "d9223378",
   "metadata": {},
   "source": [
    "# Recommender systems\n",
    "- The objective is to recommend top 5 similar moves to the one we will consider"
   ]
  },
  {
   "cell_type": "code",
   "execution_count": 1,
   "id": "e9a837d1",
   "metadata": {},
   "outputs": [],
   "source": [
    "# Importing the basic libraries\n",
    "\"\"\"\n",
    "Cut-off year: 2020\n",
    "\"\"\"\n",
    "\n",
    "import numpy as np\n",
    "import pandas as pd\n",
    "import matplotlib.pyplot as plt\n",
    "import seaborn as sns\n",
    "import streamlit as st\n",
    "\n",
    "from sentence_transformers import SentenceTransformer\n",
    "from sklearn.metrics.pairwise import cosine_similarity\n",
    "from sklearn.feature_extraction.text import CountVectorizer\n",
    "from sklearn.decomposition import PCA\n",
    "\n",
    "import warnings\n",
    "warnings.filterwarnings(\"ignore\")"
   ]
  },
  {
   "cell_type": "code",
   "execution_count": 2,
   "id": "c64dc165",
   "metadata": {},
   "outputs": [],
   "source": [
    "# Importing the data\n",
    "\n",
    "data = pd.read_csv('imdb_top_1000.csv')"
   ]
  },
  {
   "cell_type": "code",
   "execution_count": 3,
   "id": "09f21bcc",
   "metadata": {},
   "outputs": [],
   "source": [
    "data['Series_Title'] = data['Series_Title'].str.lower()"
   ]
  },
  {
   "cell_type": "code",
   "execution_count": 4,
   "id": "7ff92893",
   "metadata": {},
   "outputs": [],
   "source": [
    "# Basic inspection of the data\n",
    "\n",
    "#data.head(3)"
   ]
  },
  {
   "cell_type": "code",
   "execution_count": 5,
   "id": "a3c111a0",
   "metadata": {},
   "outputs": [],
   "source": [
    "#100*data.isnull().sum()/data.shape[0]"
   ]
  },
  {
   "cell_type": "code",
   "execution_count": 6,
   "id": "3e7d1519",
   "metadata": {},
   "outputs": [],
   "source": [
    "# Selecting the most relevant fields based on my understaning\n",
    "\n",
    "cols = ['Series_Title', 'Genre', 'IMDB_Rating', 'Overview']\n",
    "filtered_data = data[cols]"
   ]
  },
  {
   "cell_type": "code",
   "execution_count": 7,
   "id": "f7421abc",
   "metadata": {},
   "outputs": [],
   "source": [
    "#filtered_data.head()"
   ]
  },
  {
   "cell_type": "code",
   "execution_count": 8,
   "id": "c05828a1",
   "metadata": {},
   "outputs": [],
   "source": [
    "# Genre\n",
    "\n",
    "vectorize = CountVectorizer()\n",
    "genre = vectorize.fit_transform(filtered_data['Genre'])\n",
    "genre = pd.DataFrame(genre.toarray(), columns=vectorize.get_feature_names())"
   ]
  },
  {
   "cell_type": "code",
   "execution_count": 9,
   "id": "1ca595ff",
   "metadata": {},
   "outputs": [],
   "source": [
    "#genre"
   ]
  },
  {
   "cell_type": "code",
   "execution_count": 10,
   "id": "5ed0ea2c",
   "metadata": {},
   "outputs": [
    {
     "name": "stderr",
     "output_type": "stream",
     "text": [
      "2023-01-31 17:57:10.104 INFO    sentence_transformers.SentenceTransformer: Load pretrained SentenceTransformer: distilbert-base-nli-mean-tokens\n",
      "2023-01-31 17:57:11.576 INFO    sentence_transformers.SentenceTransformer: Use pytorch device: cpu\n"
     ]
    },
    {
     "data": {
      "application/vnd.jupyter.widget-view+json": {
       "model_id": "023ea0d7012a4970bd2e6eb7780fc991",
       "version_major": 2,
       "version_minor": 0
      },
      "text/plain": [
       "Batches:   0%|          | 0/32 [00:00<?, ?it/s]"
      ]
     },
     "metadata": {},
     "output_type": "display_data"
    }
   ],
   "source": [
    "# Overview\n",
    "\n",
    "text_bert = SentenceTransformer('distilbert-base-nli-mean-tokens')\n",
    "embeddings = text_bert.encode(filtered_data['Overview'], show_progress_bar=True)"
   ]
  },
  {
   "cell_type": "code",
   "execution_count": 11,
   "id": "8c7b2bca",
   "metadata": {},
   "outputs": [],
   "source": [
    "# Final data\n",
    "\n",
    "final_data = pd.concat([filtered_data['Series_Title'], pd.DataFrame(embeddings), genre], axis = 1)"
   ]
  },
  {
   "cell_type": "code",
   "execution_count": 12,
   "id": "5bc13693",
   "metadata": {},
   "outputs": [],
   "source": [
    "#final_data.head()"
   ]
  },
  {
   "cell_type": "code",
   "execution_count": 13,
   "id": "ba5f399d",
   "metadata": {},
   "outputs": [],
   "source": [
    "sim = cosine_similarity(final_data.iloc[:, 1:])"
   ]
  },
  {
   "cell_type": "code",
   "execution_count": 14,
   "id": "5af9e6ad",
   "metadata": {},
   "outputs": [],
   "source": [
    "#sim"
   ]
  },
  {
   "cell_type": "code",
   "execution_count": 15,
   "id": "44d68a35",
   "metadata": {},
   "outputs": [],
   "source": [
    "sim = pd.DataFrame(sim, columns = list(final_data['Series_Title']))"
   ]
  },
  {
   "cell_type": "code",
   "execution_count": 16,
   "id": "a354ae4f",
   "metadata": {},
   "outputs": [],
   "source": [
    "#sim"
   ]
  },
  {
   "cell_type": "code",
   "execution_count": 17,
   "id": "1521868b",
   "metadata": {},
   "outputs": [],
   "source": [
    "sim.index = list(final_data['Series_Title'])"
   ]
  },
  {
   "cell_type": "code",
   "execution_count": 18,
   "id": "7f9bbd3b",
   "metadata": {},
   "outputs": [],
   "source": [
    "#sim.head()"
   ]
  },
  {
   "cell_type": "code",
   "execution_count": 19,
   "id": "8cc412fb",
   "metadata": {},
   "outputs": [],
   "source": [
    "#sim.loc['The Shawshank Redemption'].sort_values(ascending=False)[1:6].reset_index()"
   ]
  },
  {
   "cell_type": "code",
   "execution_count": 20,
   "id": "c123e279",
   "metadata": {},
   "outputs": [],
   "source": [
    "def recommendations(movie_name):\n",
    "    movie_name = movie_name.lower()\n",
    "    recommendations = sim.loc[movie_name].sort_values(ascending=False)[1:6]\n",
    "    recommendations = recommendations.reset_index()\n",
    "    recommendations.columns = ['Series_Title', 'score']\n",
    "    recommendations = pd.merge(recommendations, data[['Series_Title', 'Genre', 'IMDB_Rating', 'Director']], on='Series_Title')\n",
    "    #print(data[data['Series_Title'] == movie_name][['Series_Title', 'Genre', 'IMDB_Rating', 'Director']])\n",
    "    return recommendations['Series_Title'].iloc[:4]"
   ]
  },
  {
   "cell_type": "code",
   "execution_count": 21,
   "id": "e9bd28be",
   "metadata": {},
   "outputs": [],
   "source": [
    "#recommendations('The Godfather')"
   ]
  },
  {
   "cell_type": "code",
   "execution_count": 22,
   "id": "44dcdede",
   "metadata": {},
   "outputs": [],
   "source": [
    "#recommendations('Taare Zameen Par')"
   ]
  },
  {
   "cell_type": "code",
   "execution_count": 23,
   "id": "d8074b18",
   "metadata": {},
   "outputs": [],
   "source": [
    "#recommendations('The Lion King')"
   ]
  },
  {
   "cell_type": "code",
   "execution_count": 24,
   "id": "600ae3f8",
   "metadata": {},
   "outputs": [],
   "source": [
    "#recommendations('The Dark Knight')"
   ]
  },
  {
   "cell_type": "code",
   "execution_count": 25,
   "id": "6e581135",
   "metadata": {},
   "outputs": [],
   "source": [
    "#recommendations('Avatar')"
   ]
  },
  {
   "cell_type": "code",
   "execution_count": 26,
   "id": "8c4d1618",
   "metadata": {},
   "outputs": [],
   "source": [
    "#recommendations('The Terminator')"
   ]
  },
  {
   "cell_type": "code",
   "execution_count": 27,
   "id": "edde0299",
   "metadata": {},
   "outputs": [],
   "source": [
    "#recommendations('The Matrix')\n"
   ]
  },
  {
   "cell_type": "code",
   "execution_count": 28,
   "id": "f3082a1c",
   "metadata": {},
   "outputs": [],
   "source": [
    "def main():\n",
    "    st.title(\"Recommendation System for Movies\")\n",
    "    html_temp = \"\"\"\n",
    "    <div style=\"background-color:tomato;padding:10px\">\n",
    "    <h2 style=\"color:white;text-align:center;\">Recommendation System App</h2>\n",
    "    </div>\n",
    "    \"\"\"\n",
    "\n",
    "    st.markdown(html_temp, unsafe_allow_html=True)\n",
    "    text_input = st.text_input(\"Enter the name of a Movie\", \"Type here\")\n",
    "    result = \"\"\n",
    "    if st.button(\"Find Movies\"):\n",
    "        result = recommendations(text_input)\n",
    "    st.success(\"The Movies are {}\".format(list(result)))"
   ]
  },
  {
   "cell_type": "code",
   "execution_count": null,
   "id": "d9fb52b7",
   "metadata": {},
   "outputs": [],
   "source": []
  },
  {
   "cell_type": "code",
   "execution_count": 29,
   "id": "6ef77665",
   "metadata": {},
   "outputs": [
    {
     "name": "stderr",
     "output_type": "stream",
     "text": [
      "2023-01-31 17:58:25.175 \n",
      "  \u001b[33m\u001b[1mWarning:\u001b[0m to view this Streamlit app on a browser, run it with the following\n",
      "  command:\n",
      "\n",
      "    streamlit run c:\\Users\\mirmm\\anaconda3_\\lib\\site-packages\\ipykernel_launcher.py [ARGUMENTS]\n"
     ]
    }
   ],
   "source": [
    "if __name__ == '__main__':\n",
    "    main()"
   ]
  }
 ],
 "metadata": {
  "kernelspec": {
   "display_name": "Python 3 (ipykernel)",
   "language": "python",
   "name": "python3"
  },
  "language_info": {
   "codemirror_mode": {
    "name": "ipython",
    "version": 3
   },
   "file_extension": ".py",
   "mimetype": "text/x-python",
   "name": "python",
   "nbconvert_exporter": "python",
   "pygments_lexer": "ipython3",
   "version": "3.9.16"
  }
 },
 "nbformat": 4,
 "nbformat_minor": 5
}
